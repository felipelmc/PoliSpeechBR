{
 "cells": [
  {
   "cell_type": "code",
   "execution_count": 9,
   "metadata": {},
   "outputs": [],
   "source": [
    "import pandas as pd\n",
    "import requests\n",
    "import time\n",
    "from tqdm import tqdm\n",
    "from bs4 import BeautifulSoup"
   ]
  },
  {
   "cell_type": "code",
   "execution_count": 10,
   "metadata": {},
   "outputs": [],
   "source": [
    "# legislatures = [57, 56, 55, 54, 53, 52]\n",
    "legislatures = [56]\n",
    "\n",
    "dfs = []\n",
    "\n",
    "for legislature in legislatures:\n",
    "    df = pd.read_csv(f'data/deputies/deputies_{legislature}.csv')\n",
    "    dfs.append(df)\n",
    "\n",
    "df = pd.concat(dfs)"
   ]
  },
  {
   "cell_type": "code",
   "execution_count": 11,
   "metadata": {},
   "outputs": [],
   "source": [
    "already_extracted_deputies = pd.read_csv(\"data/speeches/speeches_56_1.csv\")[\"deputy\"].unique().tolist()\n",
    "already_extracted_deputies_2 = pd.read_csv(\"data/speeches/speeches_56_2.csv\")[\"deputy\"].unique().tolist()\n",
    "already_extracted_deputies_3 = pd.read_csv(\"data/speeches/speeches_56_3.csv\")[\"deputy\"].unique().tolist()\n",
    "already_extracted_deputies = already_extracted_deputies + already_extracted_deputies_2 + already_extracted_deputies_3\n",
    "\n",
    "df = df[~df[\"nome\"].isin(already_extracted_deputies)]"
   ]
  },
  {
   "cell_type": "code",
   "execution_count": 12,
   "metadata": {},
   "outputs": [
    {
     "name": "stdout",
     "output_type": "stream",
     "text": [
      "Total de deputados para extrair: 237\n"
     ]
    }
   ],
   "source": [
    "print(f\"Total de deputados para extrair: {df['nome'].nunique()}\")"
   ]
  },
  {
   "cell_type": "code",
   "execution_count": 5,
   "metadata": {},
   "outputs": [],
   "source": [
    "def extract_discourse_links(soup):\n",
    "    \"\"\"\n",
    "    Function to extract the links to the discourses from the soup object.\n",
    "    \"\"\"\n",
    "    # find all table rows\n",
    "    table_rows = soup.find_all('td')\n",
    "    \n",
    "    links = []\n",
    "    \n",
    "    # iterate over the rows\n",
    "    for row in table_rows:\n",
    "        a_tags = row.find_all('a')\n",
    "        if a_tags:\n",
    "            for a_tag in a_tags:\n",
    "                try:\n",
    "                    link = a_tag['href']\n",
    "                except:\n",
    "                    continue\n",
    "                    \n",
    "                if link.startswith('TextoHTML'):\n",
    "                    # remove \"\\n\", \"\\r\", and \"\\t\"\n",
    "                    link = link.replace('\\n', '')\n",
    "                    link = link.replace('\\r', '')\n",
    "                    link = link.replace('\\t', '')\n",
    "                    links.append(link)\n",
    "\n",
    "    return links"
   ]
  },
  {
   "cell_type": "code",
   "execution_count": 6,
   "metadata": {},
   "outputs": [
    {
     "name": "stdout",
     "output_type": "stream",
     "text": [
      "Extracted 100 discourse links for Aliel Machado - page 1\n",
      "Extracted 100 discourse links for Aliel Machado - page 2\n",
      "Extracted 100 discourse links for Aliel Machado - page 3\n",
      "Extracted 100 discourse links for Aliel Machado - page 4\n",
      "Extracted 100 discourse links for Aliel Machado - page 5\n",
      "Extracted 100 discourse links for Aliel Machado - page 6\n",
      "Extracted 48 discourse links for Aliel Machado - page 7\n"
     ]
    },
    {
     "name": "stderr",
     "output_type": "stream",
     "text": [
      "                                                                                         \r"
     ]
    },
    {
     "name": "stdout",
     "output_type": "stream",
     "text": [
      "✅ 1 Finished Aliel Machado\n",
      "\n",
      "Extracted 17 discourse links for Eli Corrêa Filho - page 1\n"
     ]
    },
    {
     "name": "stderr",
     "output_type": "stream",
     "text": [
      "                                                                                          \r"
     ]
    },
    {
     "name": "stdout",
     "output_type": "stream",
     "text": [
      "✅ 2 Finished Eli Corrêa Filho\n",
      "\n",
      "Extracted 100 discourse links for Giovani Cherini - page 1\n",
      "Extracted 100 discourse links for Giovani Cherini - page 2\n",
      "Extracted 100 discourse links for Giovani Cherini - page 3\n",
      "Extracted 100 discourse links for Giovani Cherini - page 4\n",
      "Extracted 100 discourse links for Giovani Cherini - page 5\n",
      "Extracted 100 discourse links for Giovani Cherini - page 6\n",
      "Extracted 100 discourse links for Giovani Cherini - page 7\n",
      "Extracted 100 discourse links for Giovani Cherini - page 8\n",
      "Extracted 100 discourse links for Giovani Cherini - page 9\n",
      "Extracted 100 discourse links for Giovani Cherini - page 10\n",
      "Extracted 100 discourse links for Giovani Cherini - page 11\n",
      "Extracted 9 discourse links for Giovani Cherini - page 12\n"
     ]
    },
    {
     "name": "stderr",
     "output_type": "stream",
     "text": [
      "                                                                                             \r"
     ]
    },
    {
     "name": "stdout",
     "output_type": "stream",
     "text": [
      "✅ 3 Finished Giovani Cherini\n",
      "\n",
      "Extracted 33 discourse links for Franco Cartafina - page 1\n"
     ]
    },
    {
     "name": "stderr",
     "output_type": "stream",
     "text": [
      "                                                                                          \r"
     ]
    },
    {
     "name": "stdout",
     "output_type": "stream",
     "text": [
      "✅ 4 Finished Franco Cartafina\n",
      "\n",
      "Extracted 100 discourse links for Bira do Pindaré - page 1\n",
      "Extracted 100 discourse links for Bira do Pindaré - page 2\n",
      "Extracted 100 discourse links for Bira do Pindaré - page 3\n",
      "Extracted 100 discourse links for Bira do Pindaré - page 4\n",
      "Extracted 100 discourse links for Bira do Pindaré - page 5\n",
      "Extracted 100 discourse links for Bira do Pindaré - page 6\n",
      "Extracted 100 discourse links for Bira do Pindaré - page 7\n",
      "Extracted 3 discourse links for Bira do Pindaré - page 8\n"
     ]
    },
    {
     "name": "stderr",
     "output_type": "stream",
     "text": [
      "                                                                                            \r"
     ]
    },
    {
     "name": "stdout",
     "output_type": "stream",
     "text": [
      "✅ 5 Finished Bira do Pindaré\n",
      "\n",
      "Extracted 100 discourse links for Arnaldo Jardim - page 1\n",
      "Extracted 100 discourse links for Arnaldo Jardim - page 2\n",
      "Extracted 100 discourse links for Arnaldo Jardim - page 3\n",
      "Extracted 100 discourse links for Arnaldo Jardim - page 4\n",
      "Extracted 100 discourse links for Arnaldo Jardim - page 5\n",
      "Extracted 100 discourse links for Arnaldo Jardim - page 6\n",
      "Extracted 100 discourse links for Arnaldo Jardim - page 7\n",
      "Extracted 100 discourse links for Arnaldo Jardim - page 8\n",
      "Extracted 100 discourse links for Arnaldo Jardim - page 9\n",
      "Extracted 100 discourse links for Arnaldo Jardim - page 10\n",
      "Extracted 100 discourse links for Arnaldo Jardim - page 11\n",
      "Extracted 100 discourse links for Arnaldo Jardim - page 12\n",
      "Extracted 100 discourse links for Arnaldo Jardim - page 13\n",
      "Extracted 91 discourse links for Arnaldo Jardim - page 14\n"
     ]
    },
    {
     "name": "stderr",
     "output_type": "stream",
     "text": [
      "                                                                                             \r"
     ]
    },
    {
     "name": "stdout",
     "output_type": "stream",
     "text": [
      "✅ 6 Finished Arnaldo Jardim\n",
      "\n",
      "Extracted 59 discourse links for DR. FREDERICO - page 1\n"
     ]
    },
    {
     "name": "stderr",
     "output_type": "stream",
     "text": [
      "                                                                                       \r"
     ]
    },
    {
     "name": "stdout",
     "output_type": "stream",
     "text": [
      "✅ 7 Finished DR. FREDERICO\n",
      "\n",
      "Extracted 17 discourse links for Gilberto Abramo - page 1\n"
     ]
    },
    {
     "name": "stderr",
     "output_type": "stream",
     "text": [
      "                                                                                         \r"
     ]
    },
    {
     "name": "stdout",
     "output_type": "stream",
     "text": [
      "✅ 8 Finished Gilberto Abramo\n",
      "\n",
      "Extracted 83 discourse links for Natália Bonavides - page 1\n"
     ]
    },
    {
     "name": "stderr",
     "output_type": "stream",
     "text": [
      "                                                                                           \r"
     ]
    },
    {
     "name": "stdout",
     "output_type": "stream",
     "text": [
      "✅ 9 Finished Natália Bonavides\n",
      "\n",
      "Extracted 100 discourse links for Paulo Ramos - page 1\n",
      "Extracted 100 discourse links for Paulo Ramos - page 2\n",
      "Extracted 91 discourse links for Paulo Ramos - page 3\n"
     ]
    },
    {
     "name": "stderr",
     "output_type": "stream",
     "text": [
      "                                                                                       \r"
     ]
    },
    {
     "name": "stdout",
     "output_type": "stream",
     "text": [
      "✅ 10 Finished Paulo Ramos\n",
      "\n",
      "Extracted 100 discourse links for Pompeo de Mattos - page 1\n",
      "Extracted 100 discourse links for Pompeo de Mattos - page 2\n",
      "Extracted 100 discourse links for Pompeo de Mattos - page 3\n",
      "Extracted 100 discourse links for Pompeo de Mattos - page 4\n",
      "Extracted 100 discourse links for Pompeo de Mattos - page 5\n",
      "Extracted 100 discourse links for Pompeo de Mattos - page 6\n",
      "Extracted 100 discourse links for Pompeo de Mattos - page 7\n",
      "Extracted 100 discourse links for Pompeo de Mattos - page 8\n",
      "Extracted 100 discourse links for Pompeo de Mattos - page 9\n",
      "Extracted 100 discourse links for Pompeo de Mattos - page 10\n",
      "Extracted 100 discourse links for Pompeo de Mattos - page 11\n",
      "Extracted 100 discourse links for Pompeo de Mattos - page 12\n",
      "Extracted 100 discourse links for Pompeo de Mattos - page 13\n",
      "Extracted 100 discourse links for Pompeo de Mattos - page 14\n",
      "Extracted 100 discourse links for Pompeo de Mattos - page 15\n",
      "Extracted 100 discourse links for Pompeo de Mattos - page 16\n",
      "Extracted 100 discourse links for Pompeo de Mattos - page 17\n",
      "Extracted 100 discourse links for Pompeo de Mattos - page 18\n",
      "Extracted 100 discourse links for Pompeo de Mattos - page 19\n",
      "Extracted 100 discourse links for Pompeo de Mattos - page 20\n",
      "Extracted 100 discourse links for Pompeo de Mattos - page 21\n",
      "Extracted 100 discourse links for Pompeo de Mattos - page 22\n",
      "Extracted 100 discourse links for Pompeo de Mattos - page 23\n",
      "Extracted 100 discourse links for Pompeo de Mattos - page 24\n",
      "Extracted 100 discourse links for Pompeo de Mattos - page 25\n",
      "Extracted 100 discourse links for Pompeo de Mattos - page 26\n",
      "Extracted 100 discourse links for Pompeo de Mattos - page 27\n",
      "Extracted 100 discourse links for Pompeo de Mattos - page 28\n",
      "Extracted 100 discourse links for Pompeo de Mattos - page 29\n",
      "Extracted 100 discourse links for Pompeo de Mattos - page 30\n",
      "Extracted 100 discourse links for Pompeo de Mattos - page 31\n",
      "Extracted 100 discourse links for Pompeo de Mattos - page 32\n",
      "Extracted 100 discourse links for Pompeo de Mattos - page 33\n",
      "Extracted 98 discourse links for Pompeo de Mattos - page 34\n"
     ]
    },
    {
     "name": "stderr",
     "output_type": "stream",
     "text": [
      "Processing Discourses of Pompeo de Mattos:   1%|          | 30/3398 [00:49<6:46:44,  7.25s/it]"
     ]
    },
    {
     "name": "stdout",
     "output_type": "stream",
     "text": [
      "Failed to get https://www.camara.leg.br/internet/sitaqweb/TextoHTML.asp?etapa=5&nuSessao=109.2024&nuQuarto=3717141&nuOrador=1&nuInsercao=1&dtHorarioQuarto=19:04&sgFaseSessao=BC&Data=05/06/2024&txApelido=Pompeo de Mattos&txFaseSessao=Breves ComunicaÃ§Ãµes&txTipoSessao=OrdinÃ¡ria - CD&dtHoraQuarto=19:04&txEtapa= of deputy Pompeo de Mattos - HTTPSConnectionPool(host='www.camara.leg.br', port=443): Read timed out. (read timeout=None)\n"
     ]
    },
    {
     "name": "stderr",
     "output_type": "stream",
     "text": [
      "                                                                                                \r"
     ]
    },
    {
     "name": "stdout",
     "output_type": "stream",
     "text": [
      "✅ 11 Finished Pompeo de Mattos\n",
      "\n",
      "Extracted 100 discourse links for Herculano Passos - page 1\n",
      "Extracted 57 discourse links for Herculano Passos - page 2\n"
     ]
    },
    {
     "name": "stderr",
     "output_type": "stream",
     "text": [
      "                                                                                            \r"
     ]
    },
    {
     "name": "stdout",
     "output_type": "stream",
     "text": [
      "✅ 12 Finished Herculano Passos\n",
      "\n",
      "Extracted 100 discourse links for Alex Manente - page 1\n",
      "Extracted 100 discourse links for Alex Manente - page 2\n",
      "Extracted 100 discourse links for Alex Manente - page 3\n",
      "Extracted 100 discourse links for Alex Manente - page 4\n",
      "Extracted 100 discourse links for Alex Manente - page 5\n",
      "Extracted 100 discourse links for Alex Manente - page 6\n",
      "Extracted 5 discourse links for Alex Manente - page 7\n"
     ]
    },
    {
     "name": "stderr",
     "output_type": "stream",
     "text": [
      "                                                                                        \r"
     ]
    },
    {
     "name": "stdout",
     "output_type": "stream",
     "text": [
      "✅ 13 Finished Alex Manente\n",
      "\n",
      "Extracted 28 discourse links for Leda Sadala - page 1\n"
     ]
    },
    {
     "name": "stderr",
     "output_type": "stream",
     "text": [
      "                                                                                     \r"
     ]
    },
    {
     "name": "stdout",
     "output_type": "stream",
     "text": [
      "✅ 14 Finished Leda Sadala\n",
      "\n",
      "Extracted 100 discourse links for Leonardo Gadelha - page 1\n"
     ]
    },
    {
     "name": "stderr",
     "output_type": "stream",
     "text": [
      "                                                                                            \r"
     ]
    },
    {
     "name": "stdout",
     "output_type": "stream",
     "text": [
      "✅ 15 Finished Leonardo Gadelha\n",
      "\n",
      "Extracted 21 discourse links for Pedro Augusto - page 1\n"
     ]
    },
    {
     "name": "stderr",
     "output_type": "stream",
     "text": [
      "                                                                                       \r"
     ]
    },
    {
     "name": "stdout",
     "output_type": "stream",
     "text": [
      "✅ 16 Finished Pedro Augusto\n",
      "\n",
      "Extracted 11 discourse links for Rafafá - page 1\n"
     ]
    },
    {
     "name": "stderr",
     "output_type": "stream",
     "text": [
      "                                                                                \r"
     ]
    },
    {
     "name": "stdout",
     "output_type": "stream",
     "text": [
      "✅ 17 Finished Rafafá\n",
      "\n",
      "Extracted 40 discourse links for Rodrigo Coelho - page 1\n"
     ]
    },
    {
     "name": "stderr",
     "output_type": "stream",
     "text": [
      "                                                                                        \r"
     ]
    },
    {
     "name": "stdout",
     "output_type": "stream",
     "text": [
      "✅ 18 Finished Rodrigo Coelho\n",
      "\n",
      "Extracted 6 discourse links for Raimundo Costa - page 1\n"
     ]
    },
    {
     "name": "stderr",
     "output_type": "stream",
     "text": [
      "                                                                                      \r"
     ]
    },
    {
     "name": "stdout",
     "output_type": "stream",
     "text": [
      "✅ 19 Finished Raimundo Costa\n",
      "\n",
      "Extracted 57 discourse links for Andreia Zito - page 1\n"
     ]
    },
    {
     "name": "stderr",
     "output_type": "stream",
     "text": [
      "                                                                                      \r"
     ]
    },
    {
     "name": "stdout",
     "output_type": "stream",
     "text": [
      "✅ 20 Finished Andreia Zito\n",
      "\n",
      "Extracted 100 discourse links for Luciano Ducci - page 1\n",
      "Extracted 72 discourse links for Luciano Ducci - page 2\n"
     ]
    },
    {
     "name": "stderr",
     "output_type": "stream",
     "text": [
      "                                                                                         \r"
     ]
    },
    {
     "name": "stdout",
     "output_type": "stream",
     "text": [
      "✅ 21 Finished Luciano Ducci\n",
      "\n",
      "Extracted 7 discourse links for AJ Albuquerque - page 1\n"
     ]
    },
    {
     "name": "stderr",
     "output_type": "stream",
     "text": [
      "                                                                                      \r"
     ]
    },
    {
     "name": "stdout",
     "output_type": "stream",
     "text": [
      "✅ 22 Finished AJ Albuquerque\n",
      "\n",
      "Extracted 30 discourse links for Ney Leprevost - page 1\n"
     ]
    },
    {
     "name": "stderr",
     "output_type": "stream",
     "text": [
      "                                                                                       \r"
     ]
    },
    {
     "name": "stdout",
     "output_type": "stream",
     "text": [
      "✅ 23 Finished Ney Leprevost\n",
      "\n",
      "Extracted 100 discourse links for Camilo Capiberibe - page 1\n",
      "Extracted 100 discourse links for Camilo Capiberibe - page 2\n",
      "Extracted 100 discourse links for Camilo Capiberibe - page 3\n",
      "Extracted 81 discourse links for Camilo Capiberibe - page 4\n"
     ]
    },
    {
     "name": "stderr",
     "output_type": "stream",
     "text": [
      "                                                                                             \r"
     ]
    },
    {
     "name": "stdout",
     "output_type": "stream",
     "text": [
      "✅ 24 Finished Camilo Capiberibe\n",
      "\n",
      "Extracted 18 discourse links for Enéias Reis - page 1\n"
     ]
    },
    {
     "name": "stderr",
     "output_type": "stream",
     "text": [
      "                                                                                     \r"
     ]
    },
    {
     "name": "stdout",
     "output_type": "stream",
     "text": [
      "✅ 25 Finished Enéias Reis\n",
      "\n",
      "Extracted 75 discourse links for Expedito Netto - page 1\n"
     ]
    },
    {
     "name": "stderr",
     "output_type": "stream",
     "text": [
      "                                                                                        \r"
     ]
    },
    {
     "name": "stdout",
     "output_type": "stream",
     "text": [
      "✅ 26 Finished Expedito Netto\n",
      "\n",
      "Extracted 18 discourse links for Helio Lopes - page 1\n"
     ]
    },
    {
     "name": "stderr",
     "output_type": "stream",
     "text": [
      "                                                                                     \r"
     ]
    },
    {
     "name": "stdout",
     "output_type": "stream",
     "text": [
      "✅ 27 Finished Helio Lopes\n",
      "\n",
      "Extracted 100 discourse links for Maria do Rosário - page 1\n",
      "Extracted 100 discourse links for Maria do Rosário - page 2\n",
      "Extracted 100 discourse links for Maria do Rosário - page 3\n",
      "Extracted 100 discourse links for Maria do Rosário - page 4\n",
      "Extracted 100 discourse links for Maria do Rosário - page 5\n",
      "Extracted 100 discourse links for Maria do Rosário - page 6\n",
      "Extracted 100 discourse links for Maria do Rosário - page 7\n",
      "Extracted 100 discourse links for Maria do Rosário - page 8\n",
      "Extracted 100 discourse links for Maria do Rosário - page 9\n",
      "Extracted 100 discourse links for Maria do Rosário - page 10\n",
      "Extracted 100 discourse links for Maria do Rosário - page 11\n",
      "Extracted 100 discourse links for Maria do Rosário - page 12\n",
      "Extracted 100 discourse links for Maria do Rosário - page 13\n",
      "Extracted 100 discourse links for Maria do Rosário - page 14\n",
      "Extracted 100 discourse links for Maria do Rosário - page 15\n",
      "Extracted 28 discourse links for Maria do Rosário - page 16\n"
     ]
    },
    {
     "name": "stderr",
     "output_type": "stream",
     "text": [
      "                                                                                               \r"
     ]
    },
    {
     "name": "stdout",
     "output_type": "stream",
     "text": [
      "✅ 28 Finished Maria do Rosário\n",
      "\n",
      "Extracted 100 discourse links for Sâmia Bomfim - page 1\n",
      "Extracted 100 discourse links for Sâmia Bomfim - page 2\n",
      "Extracted 100 discourse links for Sâmia Bomfim - page 3\n",
      "Extracted 100 discourse links for Sâmia Bomfim - page 4\n",
      "Extracted 100 discourse links for Sâmia Bomfim - page 5\n",
      "Extracted 100 discourse links for Sâmia Bomfim - page 6\n",
      "Extracted 98 discourse links for Sâmia Bomfim - page 7\n"
     ]
    },
    {
     "name": "stderr",
     "output_type": "stream",
     "text": [
      "                                                                                        \r"
     ]
    },
    {
     "name": "stdout",
     "output_type": "stream",
     "text": [
      "✅ 29 Finished Sâmia Bomfim\n",
      "\n",
      "Extracted 5 discourse links for Gutemberg Reis - page 1\n"
     ]
    },
    {
     "name": "stderr",
     "output_type": "stream",
     "text": [
      "                                                                                      \r"
     ]
    },
    {
     "name": "stdout",
     "output_type": "stream",
     "text": [
      "✅ 30 Finished Gutemberg Reis\n",
      "\n",
      "Extracted 100 discourse links for Renildo Calheiros - page 1\n",
      "Extracted 100 discourse links for Renildo Calheiros - page 2\n",
      "Extracted 100 discourse links for Renildo Calheiros - page 3\n",
      "Extracted 100 discourse links for Renildo Calheiros - page 4\n",
      "Extracted 100 discourse links for Renildo Calheiros - page 5\n",
      "Extracted 100 discourse links for Renildo Calheiros - page 6\n",
      "Extracted 89 discourse links for Renildo Calheiros - page 7\n",
      "Extracted 6 discourse links for Renildo Calheiros - page 8\n"
     ]
    },
    {
     "name": "stderr",
     "output_type": "stream",
     "text": [
      "                                                                                             \r"
     ]
    },
    {
     "name": "stdout",
     "output_type": "stream",
     "text": [
      "✅ 31 Finished Renildo Calheiros\n",
      "\n",
      "Extracted 100 discourse links for Odorico Monteiro - page 1\n",
      "Extracted 100 discourse links for Odorico Monteiro - page 2\n",
      "Extracted 40 discourse links for Odorico Monteiro - page 3\n"
     ]
    },
    {
     "name": "stderr",
     "output_type": "stream",
     "text": [
      "                                                                                            \r"
     ]
    },
    {
     "name": "stdout",
     "output_type": "stream",
     "text": [
      "✅ 32 Finished Odorico Monteiro\n",
      "\n",
      "Extracted 80 discourse links for Schiavinato - page 1\n"
     ]
    },
    {
     "name": "stderr",
     "output_type": "stream",
     "text": [
      "                                                                                     \r"
     ]
    },
    {
     "name": "stdout",
     "output_type": "stream",
     "text": [
      "✅ 33 Finished Schiavinato\n",
      "\n",
      "Extracted 100 discourse links for Simplício Araújo - page 1\n",
      "Extracted 86 discourse links for Simplício Araújo - page 2\n"
     ]
    },
    {
     "name": "stderr",
     "output_type": "stream",
     "text": [
      "                                                                                            \r"
     ]
    },
    {
     "name": "stdout",
     "output_type": "stream",
     "text": [
      "✅ 34 Finished Simplício Araújo\n",
      "\n",
      "Extracted 100 discourse links for Pedro Uczai - page 1\n",
      "Extracted 100 discourse links for Pedro Uczai - page 2\n",
      "Extracted 100 discourse links for Pedro Uczai - page 3\n",
      "Extracted 100 discourse links for Pedro Uczai - page 4\n",
      "Extracted 100 discourse links for Pedro Uczai - page 5\n",
      "Extracted 100 discourse links for Pedro Uczai - page 6\n",
      "Extracted 100 discourse links for Pedro Uczai - page 7\n",
      "Extracted 100 discourse links for Pedro Uczai - page 8\n",
      "Extracted 100 discourse links for Pedro Uczai - page 9\n",
      "Extracted 94 discourse links for Pedro Uczai - page 10\n"
     ]
    },
    {
     "name": "stderr",
     "output_type": "stream",
     "text": [
      "                                                                                       \r"
     ]
    },
    {
     "name": "stdout",
     "output_type": "stream",
     "text": [
      "✅ 35 Finished Pedro Uczai\n",
      "\n",
      "Extracted 5 discourse links for PAULO FREIRE COSTA - page 1\n"
     ]
    },
    {
     "name": "stderr",
     "output_type": "stream",
     "text": [
      "                                                                                          \r"
     ]
    },
    {
     "name": "stdout",
     "output_type": "stream",
     "text": [
      "✅ 36 Finished PAULO FREIRE COSTA\n",
      "\n",
      "Extracted 78 discourse links for Emanuel Pinheiro Neto - page 1\n"
     ]
    },
    {
     "name": "stderr",
     "output_type": "stream",
     "text": [
      "                                                                                               \r"
     ]
    },
    {
     "name": "stdout",
     "output_type": "stream",
     "text": [
      "✅ 37 Finished Emanuel Pinheiro Neto\n",
      "\n",
      "Extracted 100 discourse links for Giacobo - page 1\n",
      "Extracted 62 discourse links for Giacobo - page 2\n"
     ]
    },
    {
     "name": "stderr",
     "output_type": "stream",
     "text": [
      "                                                                                   \r"
     ]
    },
    {
     "name": "stdout",
     "output_type": "stream",
     "text": [
      "✅ 38 Finished Giacobo\n",
      "\n",
      "Extracted 100 discourse links for Osmar Terra - page 1\n",
      "Extracted 100 discourse links for Osmar Terra - page 2\n",
      "Extracted 100 discourse links for Osmar Terra - page 3\n",
      "Extracted 100 discourse links for Osmar Terra - page 4\n",
      "Extracted 100 discourse links for Osmar Terra - page 5\n",
      "Extracted 2 discourse links for Osmar Terra - page 6\n"
     ]
    },
    {
     "name": "stderr",
     "output_type": "stream",
     "text": [
      "                                                                                       \r"
     ]
    },
    {
     "name": "stdout",
     "output_type": "stream",
     "text": [
      "✅ 39 Finished Osmar Terra\n",
      "\n",
      "Extracted 100 discourse links for Eduardo Barbosa - page 1\n",
      "Extracted 10 discourse links for Eduardo Barbosa - page 2\n"
     ]
    },
    {
     "name": "stderr",
     "output_type": "stream",
     "text": [
      "                                                                                           \r"
     ]
    },
    {
     "name": "stdout",
     "output_type": "stream",
     "text": [
      "✅ 40 Finished Eduardo Barbosa\n",
      "\n",
      "Extracted 100 discourse links for Subtenente Gonzaga - page 1\n",
      "Extracted 100 discourse links for Subtenente Gonzaga - page 2\n",
      "Extracted 100 discourse links for Subtenente Gonzaga - page 3\n",
      "Extracted 100 discourse links for Subtenente Gonzaga - page 4\n",
      "Extracted 53 discourse links for Subtenente Gonzaga - page 5\n"
     ]
    },
    {
     "name": "stderr",
     "output_type": "stream",
     "text": [
      "                                                                                              \r"
     ]
    },
    {
     "name": "stdout",
     "output_type": "stream",
     "text": [
      "✅ 41 Finished Subtenente Gonzaga\n",
      "\n",
      "Extracted 100 discourse links for Alice Portugal - page 1\n",
      "Extracted 100 discourse links for Alice Portugal - page 2\n",
      "Extracted 100 discourse links for Alice Portugal - page 3\n",
      "Extracted 100 discourse links for Alice Portugal - page 4\n",
      "Extracted 100 discourse links for Alice Portugal - page 5\n",
      "Extracted 100 discourse links for Alice Portugal - page 6\n",
      "Extracted 100 discourse links for Alice Portugal - page 7\n",
      "Extracted 100 discourse links for Alice Portugal - page 8\n",
      "Extracted 100 discourse links for Alice Portugal - page 9\n",
      "Extracted 100 discourse links for Alice Portugal - page 10\n",
      "Extracted 100 discourse links for Alice Portugal - page 11\n",
      "Extracted 100 discourse links for Alice Portugal - page 12\n",
      "Extracted 100 discourse links for Alice Portugal - page 13\n",
      "Extracted 100 discourse links for Alice Portugal - page 14\n",
      "Extracted 100 discourse links for Alice Portugal - page 15\n",
      "Extracted 100 discourse links for Alice Portugal - page 16\n",
      "Extracted 100 discourse links for Alice Portugal - page 17\n",
      "Extracted 100 discourse links for Alice Portugal - page 18\n",
      "Extracted 100 discourse links for Alice Portugal - page 19\n",
      "Extracted 100 discourse links for Alice Portugal - page 20\n",
      "Extracted 100 discourse links for Alice Portugal - page 21\n",
      "Extracted 100 discourse links for Alice Portugal - page 22\n",
      "Extracted 100 discourse links for Alice Portugal - page 23\n",
      "Extracted 100 discourse links for Alice Portugal - page 24\n",
      "Extracted 100 discourse links for Alice Portugal - page 25\n",
      "Extracted 100 discourse links for Alice Portugal - page 26\n",
      "Extracted 100 discourse links for Alice Portugal - page 27\n",
      "Extracted 2 discourse links for Alice Portugal - page 28\n"
     ]
    },
    {
     "name": "stderr",
     "output_type": "stream",
     "text": [
      "                                                                                            \r"
     ]
    },
    {
     "name": "stdout",
     "output_type": "stream",
     "text": [
      "✅ 42 Finished Alice Portugal\n",
      "\n",
      "Extracted 6 discourse links for Carlos Chiodini - page 1\n"
     ]
    },
    {
     "name": "stderr",
     "output_type": "stream",
     "text": [
      "                                                                                       \r"
     ]
    },
    {
     "name": "stdout",
     "output_type": "stream",
     "text": [
      "✅ 43 Finished Carlos Chiodini\n",
      "\n",
      "Extracted 100 discourse links for Marcon - page 1\n",
      "Extracted 100 discourse links for Marcon - page 2\n",
      "Extracted 100 discourse links for Marcon - page 3\n",
      "Extracted 100 discourse links for Marcon - page 4\n",
      "Extracted 100 discourse links for Marcon - page 5\n",
      "Extracted 100 discourse links for Marcon - page 6\n",
      "Extracted 100 discourse links for Marcon - page 7\n",
      "Extracted 100 discourse links for Marcon - page 8\n",
      "Extracted 100 discourse links for Marcon - page 9\n",
      "Extracted 100 discourse links for Marcon - page 10\n",
      "Extracted 100 discourse links for Marcon - page 11\n",
      "Extracted 100 discourse links for Marcon - page 12\n",
      "Extracted 100 discourse links for Marcon - page 13\n",
      "Extracted 100 discourse links for Marcon - page 14\n",
      "Extracted 100 discourse links for Marcon - page 15\n",
      "Extracted 100 discourse links for Marcon - page 16\n",
      "Extracted 100 discourse links for Marcon - page 17\n",
      "Extracted 100 discourse links for Marcon - page 18\n",
      "Extracted 95 discourse links for Marcon - page 19\n"
     ]
    },
    {
     "name": "stderr",
     "output_type": "stream",
     "text": [
      "                                                                                     \r"
     ]
    },
    {
     "name": "stdout",
     "output_type": "stream",
     "text": [
      "✅ 44 Finished Marcon\n",
      "\n",
      "Extracted 42 discourse links for MAJOR VITOR HUGO - page 1\n"
     ]
    },
    {
     "name": "stderr",
     "output_type": "stream",
     "text": [
      "                                                                                          \r"
     ]
    },
    {
     "name": "stdout",
     "output_type": "stream",
     "text": [
      "✅ 45 Finished MAJOR VITOR HUGO\n",
      "\n"
     ]
    },
    {
     "name": "stderr",
     "output_type": "stream",
     "text": [
      "                                                        \r"
     ]
    },
    {
     "name": "stdout",
     "output_type": "stream",
     "text": [
      "✅ 46 Finished Rui Godinho\n",
      "\n",
      "Extracted 51 discourse links for Chiquinho Brazão - page 1\n"
     ]
    },
    {
     "name": "stderr",
     "output_type": "stream",
     "text": [
      "                                                                                          \r"
     ]
    },
    {
     "name": "stdout",
     "output_type": "stream",
     "text": [
      "✅ 47 Finished Chiquinho Brazão\n",
      "\n",
      "Extracted 20 discourse links for Rose Modesto - page 1\n"
     ]
    },
    {
     "name": "stderr",
     "output_type": "stream",
     "text": [
      "                                                                                      \r"
     ]
    },
    {
     "name": "stdout",
     "output_type": "stream",
     "text": [
      "✅ 48 Finished Rose Modesto\n",
      "\n",
      "Extracted 61 discourse links for Aline Gurgel - page 1\n"
     ]
    },
    {
     "name": "stderr",
     "output_type": "stream",
     "text": [
      "                                                                                      \r"
     ]
    },
    {
     "name": "stdout",
     "output_type": "stream",
     "text": [
      "✅ 49 Finished Aline Gurgel\n",
      "\n",
      "Extracted 47 discourse links for Beto Rosado - page 1\n"
     ]
    },
    {
     "name": "stderr",
     "output_type": "stream",
     "text": [
      "                                                                                     \r"
     ]
    },
    {
     "name": "stdout",
     "output_type": "stream",
     "text": [
      "✅ 50 Finished Beto Rosado\n",
      "\n",
      "Extracted 36 discourse links for Pedro Westphalen - page 1\n"
     ]
    },
    {
     "name": "stderr",
     "output_type": "stream",
     "text": [
      "                                                                                          \r"
     ]
    },
    {
     "name": "stdout",
     "output_type": "stream",
     "text": [
      "✅ 51 Finished Pedro Westphalen\n",
      "\n",
      "Extracted 100 discourse links for Paes Landim - page 1\n",
      "Extracted 100 discourse links for Paes Landim - page 2\n",
      "Extracted 100 discourse links for Paes Landim - page 3\n",
      "Extracted 100 discourse links for Paes Landim - page 4\n",
      "Extracted 100 discourse links for Paes Landim - page 5\n",
      "Extracted 100 discourse links for Paes Landim - page 6\n",
      "Extracted 100 discourse links for Paes Landim - page 7\n",
      "Extracted 100 discourse links for Paes Landim - page 8\n",
      "Extracted 100 discourse links for Paes Landim - page 9\n",
      "Extracted 100 discourse links for Paes Landim - page 10\n",
      "Extracted 100 discourse links for Paes Landim - page 11\n",
      "Extracted 100 discourse links for Paes Landim - page 12\n",
      "Extracted 100 discourse links for Paes Landim - page 13\n",
      "Extracted 100 discourse links for Paes Landim - page 14\n",
      "Extracted 100 discourse links for Paes Landim - page 15\n",
      "Extracted 58 discourse links for Paes Landim - page 16\n"
     ]
    },
    {
     "name": "stderr",
     "output_type": "stream",
     "text": [
      "                                                                                         \r"
     ]
    },
    {
     "name": "stdout",
     "output_type": "stream",
     "text": [
      "✅ 52 Finished Paes Landim\n",
      "\n",
      "Extracted 20 discourse links for PEDRO AUGUSTO BEZERRA - page 1\n"
     ]
    },
    {
     "name": "stderr",
     "output_type": "stream",
     "text": [
      "                                                                                               \r"
     ]
    },
    {
     "name": "stdout",
     "output_type": "stream",
     "text": [
      "✅ 53 Finished PEDRO AUGUSTO BEZERRA\n",
      "\n",
      "Extracted 83 discourse links for Roberto Pessoa - page 1\n"
     ]
    },
    {
     "name": "stderr",
     "output_type": "stream",
     "text": [
      "                                                                                        \r"
     ]
    },
    {
     "name": "stdout",
     "output_type": "stream",
     "text": [
      "✅ 54 Finished Roberto Pessoa\n",
      "\n",
      "Extracted 100 discourse links for Celso Russomanno - page 1\n",
      "Extracted 100 discourse links for Celso Russomanno - page 2\n",
      "Extracted 100 discourse links for Celso Russomanno - page 3\n",
      "Extracted 100 discourse links for Celso Russomanno - page 4\n",
      "Extracted 68 discourse links for Celso Russomanno - page 5\n",
      "Extracted 4 discourse links for Celso Russomanno - page 6\n"
     ]
    },
    {
     "name": "stderr",
     "output_type": "stream",
     "text": [
      "                                                                                            \r"
     ]
    },
    {
     "name": "stdout",
     "output_type": "stream",
     "text": [
      "✅ 55 Finished Celso Russomanno\n",
      "\n",
      "Extracted 57 discourse links for Daniel Silveira - page 1\n"
     ]
    },
    {
     "name": "stderr",
     "output_type": "stream",
     "text": [
      "                                                                                         \r"
     ]
    },
    {
     "name": "stdout",
     "output_type": "stream",
     "text": [
      "✅ 56 Finished Daniel Silveira\n",
      "\n",
      "Extracted 89 discourse links for Maia Filho - page 1\n"
     ]
    },
    {
     "name": "stderr",
     "output_type": "stream",
     "text": [
      "                                                                                    \r"
     ]
    },
    {
     "name": "stdout",
     "output_type": "stream",
     "text": [
      "✅ 57 Finished Maia Filho\n",
      "\n",
      "Extracted 82 discourse links for Fausto Pinato - page 1\n"
     ]
    },
    {
     "name": "stderr",
     "output_type": "stream",
     "text": [
      "                                                                                       \r"
     ]
    },
    {
     "name": "stdout",
     "output_type": "stream",
     "text": [
      "✅ 58 Finished Fausto Pinato\n",
      "\n",
      "Extracted 100 discourse links for Ivan Valente - page 1\n",
      "Extracted 100 discourse links for Ivan Valente - page 2\n",
      "Extracted 100 discourse links for Ivan Valente - page 3\n",
      "Extracted 100 discourse links for Ivan Valente - page 4\n",
      "Extracted 100 discourse links for Ivan Valente - page 5\n",
      "Extracted 100 discourse links for Ivan Valente - page 6\n",
      "Extracted 100 discourse links for Ivan Valente - page 7\n",
      "Extracted 100 discourse links for Ivan Valente - page 8\n",
      "Extracted 100 discourse links for Ivan Valente - page 9\n",
      "Extracted 100 discourse links for Ivan Valente - page 10\n",
      "Extracted 100 discourse links for Ivan Valente - page 11\n",
      "Extracted 100 discourse links for Ivan Valente - page 12\n",
      "Extracted 100 discourse links for Ivan Valente - page 13\n",
      "Extracted 100 discourse links for Ivan Valente - page 14\n",
      "Extracted 100 discourse links for Ivan Valente - page 15\n",
      "Extracted 100 discourse links for Ivan Valente - page 16\n",
      "Extracted 100 discourse links for Ivan Valente - page 17\n",
      "Extracted 100 discourse links for Ivan Valente - page 18\n",
      "Extracted 100 discourse links for Ivan Valente - page 19\n",
      "Extracted 100 discourse links for Ivan Valente - page 20\n",
      "Extracted 100 discourse links for Ivan Valente - page 21\n",
      "Extracted 100 discourse links for Ivan Valente - page 22\n",
      "Extracted 100 discourse links for Ivan Valente - page 23\n",
      "Extracted 100 discourse links for Ivan Valente - page 24\n",
      "Extracted 100 discourse links for Ivan Valente - page 25\n",
      "Extracted 100 discourse links for Ivan Valente - page 26\n",
      "Extracted 100 discourse links for Ivan Valente - page 27\n",
      "Extracted 100 discourse links for Ivan Valente - page 28\n",
      "Extracted 100 discourse links for Ivan Valente - page 29\n",
      "Extracted 100 discourse links for Ivan Valente - page 30\n",
      "Extracted 100 discourse links for Ivan Valente - page 31\n",
      "Extracted 100 discourse links for Ivan Valente - page 32\n",
      "Extracted 100 discourse links for Ivan Valente - page 33\n",
      "Extracted 100 discourse links for Ivan Valente - page 34\n",
      "Extracted 100 discourse links for Ivan Valente - page 35\n",
      "Extracted 100 discourse links for Ivan Valente - page 36\n",
      "Extracted 100 discourse links for Ivan Valente - page 37\n",
      "Extracted 100 discourse links for Ivan Valente - page 38\n",
      "Extracted 100 discourse links for Ivan Valente - page 39\n",
      "Extracted 100 discourse links for Ivan Valente - page 40\n",
      "Extracted 100 discourse links for Ivan Valente - page 41\n",
      "Extracted 100 discourse links for Ivan Valente - page 42\n",
      "Extracted 100 discourse links for Ivan Valente - page 43\n",
      "Extracted 100 discourse links for Ivan Valente - page 44\n",
      "Extracted 15 discourse links for Ivan Valente - page 45\n"
     ]
    },
    {
     "name": "stderr",
     "output_type": "stream",
     "text": [
      "                                                                                            \r"
     ]
    },
    {
     "name": "stdout",
     "output_type": "stream",
     "text": [
      "✅ 59 Finished Ivan Valente\n",
      "\n",
      "Extracted 100 discourse links for Orlando Silva - page 1\n",
      "Extracted 100 discourse links for Orlando Silva - page 2\n",
      "Extracted 100 discourse links for Orlando Silva - page 3\n",
      "Extracted 100 discourse links for Orlando Silva - page 4\n",
      "Extracted 100 discourse links for Orlando Silva - page 5\n",
      "Extracted 100 discourse links for Orlando Silva - page 6\n",
      "Extracted 100 discourse links for Orlando Silva - page 7\n",
      "Extracted 100 discourse links for Orlando Silva - page 8\n",
      "Extracted 91 discourse links for Orlando Silva - page 9\n"
     ]
    },
    {
     "name": "stderr",
     "output_type": "stream",
     "text": [
      "                                                                                         \r"
     ]
    },
    {
     "name": "stdout",
     "output_type": "stream",
     "text": [
      "✅ 60 Finished Orlando Silva\n",
      "\n",
      "Extracted 100 discourse links for Danilo Forte - page 1\n",
      "Extracted 100 discourse links for Danilo Forte - page 2\n",
      "Extracted 100 discourse links for Danilo Forte - page 3\n",
      "Extracted 100 discourse links for Danilo Forte - page 4\n",
      "Extracted 100 discourse links for Danilo Forte - page 5\n",
      "Extracted 100 discourse links for Danilo Forte - page 6\n",
      "Extracted 100 discourse links for Danilo Forte - page 7\n",
      "Extracted 100 discourse links for Danilo Forte - page 8\n",
      "Extracted 9 discourse links for Danilo Forte - page 9\n"
     ]
    },
    {
     "name": "stderr",
     "output_type": "stream",
     "text": [
      "                                                                                        \r"
     ]
    },
    {
     "name": "stdout",
     "output_type": "stream",
     "text": [
      "✅ 61 Finished Danilo Forte\n",
      "\n",
      "Extracted 100 discourse links for Rogério Peninha Mendonça - page 1\n",
      "Extracted 43 discourse links for Rogério Peninha Mendonça - page 2\n"
     ]
    },
    {
     "name": "stderr",
     "output_type": "stream",
     "text": [
      "                                                                                                    \r"
     ]
    },
    {
     "name": "stdout",
     "output_type": "stream",
     "text": [
      "✅ 62 Finished Rogério Peninha Mendonça\n",
      "\n",
      "Extracted 100 discourse links for Paulo Ganime - page 1\n",
      "Extracted 100 discourse links for Paulo Ganime - page 2\n",
      "Extracted 100 discourse links for Paulo Ganime - page 3\n",
      "Extracted 100 discourse links for Paulo Ganime - page 4\n",
      "Extracted 100 discourse links for Paulo Ganime - page 5\n",
      "Extracted 100 discourse links for Paulo Ganime - page 6\n",
      "Extracted 66 discourse links for Paulo Ganime - page 7\n"
     ]
    },
    {
     "name": "stderr",
     "output_type": "stream",
     "text": [
      "                                                                                        \r"
     ]
    },
    {
     "name": "stdout",
     "output_type": "stream",
     "text": [
      "✅ 63 Finished Paulo Ganime\n",
      "\n",
      "Extracted 100 discourse links for Átila Lins - page 1\n",
      "Extracted 100 discourse links for Átila Lins - page 2\n",
      "Extracted 100 discourse links for Átila Lins - page 3\n",
      "Extracted 100 discourse links for Átila Lins - page 4\n",
      "Extracted 100 discourse links for Átila Lins - page 5\n",
      "Extracted 100 discourse links for Átila Lins - page 6\n",
      "Extracted 100 discourse links for Átila Lins - page 7\n",
      "Extracted 100 discourse links for Átila Lins - page 8\n",
      "Extracted 100 discourse links for Átila Lins - page 9\n",
      "Extracted 100 discourse links for Átila Lins - page 10\n",
      "Extracted 100 discourse links for Átila Lins - page 11\n",
      "Extracted 100 discourse links for Átila Lins - page 12\n",
      "Extracted 100 discourse links for Átila Lins - page 13\n",
      "Extracted 64 discourse links for Átila Lins - page 14\n"
     ]
    },
    {
     "name": "stderr",
     "output_type": "stream",
     "text": [
      "                                                                                        \r"
     ]
    },
    {
     "name": "stdout",
     "output_type": "stream",
     "text": [
      "✅ 64 Finished Átila Lins\n",
      "\n",
      "Extracted 100 discourse links for Rubens Otoni - page 1\n",
      "Extracted 11 discourse links for Rubens Otoni - page 2\n"
     ]
    },
    {
     "name": "stderr",
     "output_type": "stream",
     "text": [
      "                                                                                        \r"
     ]
    },
    {
     "name": "stdout",
     "output_type": "stream",
     "text": [
      "✅ 65 Finished Rubens Otoni\n",
      "\n",
      "Extracted 100 discourse links for Julio Lopes - page 1\n",
      "Extracted 100 discourse links for Julio Lopes - page 2\n",
      "Extracted 100 discourse links for Julio Lopes - page 3\n",
      "Extracted 38 discourse links for Julio Lopes - page 4\n"
     ]
    },
    {
     "name": "stderr",
     "output_type": "stream",
     "text": [
      "                                                                                       \r"
     ]
    },
    {
     "name": "stdout",
     "output_type": "stream",
     "text": [
      "✅ 66 Finished Julio Lopes\n",
      "\n",
      "Extracted 38 discourse links for Dimas Fabiano - page 1\n"
     ]
    },
    {
     "name": "stderr",
     "output_type": "stream",
     "text": [
      "                                                                                       \r"
     ]
    },
    {
     "name": "stdout",
     "output_type": "stream",
     "text": [
      "✅ 67 Finished Dimas Fabiano\n",
      "\n",
      "Extracted 100 discourse links for Sandro Alex - page 1\n",
      "Extracted 100 discourse links for Sandro Alex - page 2\n",
      "Extracted 100 discourse links for Sandro Alex - page 3\n",
      "Extracted 100 discourse links for Sandro Alex - page 4\n",
      "Extracted 100 discourse links for Sandro Alex - page 5\n",
      "Extracted 100 discourse links for Sandro Alex - page 6\n",
      "Extracted 48 discourse links for Sandro Alex - page 7\n"
     ]
    },
    {
     "name": "stderr",
     "output_type": "stream",
     "text": [
      "                                                                                       \r"
     ]
    },
    {
     "name": "stdout",
     "output_type": "stream",
     "text": [
      "✅ 68 Finished Sandro Alex\n",
      "\n",
      "Extracted 77 discourse links for Alfredinho - page 1\n"
     ]
    },
    {
     "name": "stderr",
     "output_type": "stream",
     "text": [
      "                                                                                    \r"
     ]
    },
    {
     "name": "stdout",
     "output_type": "stream",
     "text": [
      "✅ 69 Finished Alfredinho\n",
      "\n",
      "Extracted 100 discourse links for Gilson Marques - page 1\n",
      "Extracted 100 discourse links for Gilson Marques - page 2\n",
      "Extracted 100 discourse links for Gilson Marques - page 3\n",
      "Extracted 100 discourse links for Gilson Marques - page 4\n",
      "Extracted 100 discourse links for Gilson Marques - page 5\n",
      "Extracted 100 discourse links for Gilson Marques - page 6\n",
      "Extracted 98 discourse links for Gilson Marques - page 7\n"
     ]
    },
    {
     "name": "stderr",
     "output_type": "stream",
     "text": [
      "                                                                                            \r"
     ]
    },
    {
     "ename": "KeyboardInterrupt",
     "evalue": "",
     "output_type": "error",
     "traceback": [
      "\u001b[1;31m---------------------------------------------------------------------------\u001b[0m",
      "\u001b[1;31mKeyboardInterrupt\u001b[0m                         Traceback (most recent call last)",
      "Cell \u001b[1;32mIn[6], line 80\u001b[0m\n\u001b[0;32m     78\u001b[0m     \u001b[38;5;66;03m# Save every 10 deputies\u001b[39;00m\n\u001b[0;32m     79\u001b[0m     \u001b[38;5;28;01mif\u001b[39;00m deputy_number \u001b[38;5;241m%\u001b[39m \u001b[38;5;241m10\u001b[39m \u001b[38;5;241m==\u001b[39m \u001b[38;5;241m0\u001b[39m:\n\u001b[1;32m---> 80\u001b[0m         \u001b[43mdata\u001b[49m\u001b[38;5;241;43m.\u001b[39;49m\u001b[43mto_csv\u001b[49m\u001b[43m(\u001b[49m\u001b[43mFILENAME\u001b[49m\u001b[43m,\u001b[49m\u001b[43m \u001b[49m\u001b[43mindex\u001b[49m\u001b[38;5;241;43m=\u001b[39;49m\u001b[38;5;28;43;01mFalse\u001b[39;49;00m\u001b[43m)\u001b[49m\n\u001b[0;32m     82\u001b[0m     time\u001b[38;5;241m.\u001b[39msleep(\u001b[38;5;241m0.5\u001b[39m)\n\u001b[0;32m     84\u001b[0m \u001b[38;5;28mprint\u001b[39m(\u001b[38;5;124mf\u001b[39m\u001b[38;5;124m\"\u001b[39m\u001b[38;5;124m✅ \u001b[39m\u001b[38;5;132;01m{\u001b[39;00mdeputy_number\u001b[38;5;132;01m}\u001b[39;00m\u001b[38;5;124m Finished \u001b[39m\u001b[38;5;132;01m{\u001b[39;00mdeputy\u001b[38;5;132;01m}\u001b[39;00m\u001b[38;5;130;01m\\n\u001b[39;00m\u001b[38;5;124m\"\u001b[39m)\n",
      "File \u001b[1;32mc:\\Users\\felip\\AppData\\Local\\Programs\\Python\\Python312\\Lib\\site-packages\\pandas\\util\\_decorators.py:333\u001b[0m, in \u001b[0;36mdeprecate_nonkeyword_arguments.<locals>.decorate.<locals>.wrapper\u001b[1;34m(*args, **kwargs)\u001b[0m\n\u001b[0;32m    327\u001b[0m \u001b[38;5;28;01mif\u001b[39;00m \u001b[38;5;28mlen\u001b[39m(args) \u001b[38;5;241m>\u001b[39m num_allow_args:\n\u001b[0;32m    328\u001b[0m     warnings\u001b[38;5;241m.\u001b[39mwarn(\n\u001b[0;32m    329\u001b[0m         msg\u001b[38;5;241m.\u001b[39mformat(arguments\u001b[38;5;241m=\u001b[39m_format_argument_list(allow_args)),\n\u001b[0;32m    330\u001b[0m         \u001b[38;5;167;01mFutureWarning\u001b[39;00m,\n\u001b[0;32m    331\u001b[0m         stacklevel\u001b[38;5;241m=\u001b[39mfind_stack_level(),\n\u001b[0;32m    332\u001b[0m     )\n\u001b[1;32m--> 333\u001b[0m \u001b[38;5;28;01mreturn\u001b[39;00m \u001b[43mfunc\u001b[49m\u001b[43m(\u001b[49m\u001b[38;5;241;43m*\u001b[39;49m\u001b[43margs\u001b[49m\u001b[43m,\u001b[49m\u001b[43m \u001b[49m\u001b[38;5;241;43m*\u001b[39;49m\u001b[38;5;241;43m*\u001b[39;49m\u001b[43mkwargs\u001b[49m\u001b[43m)\u001b[49m\n",
      "File \u001b[1;32mc:\\Users\\felip\\AppData\\Local\\Programs\\Python\\Python312\\Lib\\site-packages\\pandas\\core\\generic.py:3967\u001b[0m, in \u001b[0;36mNDFrame.to_csv\u001b[1;34m(self, path_or_buf, sep, na_rep, float_format, columns, header, index, index_label, mode, encoding, compression, quoting, quotechar, lineterminator, chunksize, date_format, doublequote, escapechar, decimal, errors, storage_options)\u001b[0m\n\u001b[0;32m   3956\u001b[0m df \u001b[38;5;241m=\u001b[39m \u001b[38;5;28mself\u001b[39m \u001b[38;5;28;01mif\u001b[39;00m \u001b[38;5;28misinstance\u001b[39m(\u001b[38;5;28mself\u001b[39m, ABCDataFrame) \u001b[38;5;28;01melse\u001b[39;00m \u001b[38;5;28mself\u001b[39m\u001b[38;5;241m.\u001b[39mto_frame()\n\u001b[0;32m   3958\u001b[0m formatter \u001b[38;5;241m=\u001b[39m DataFrameFormatter(\n\u001b[0;32m   3959\u001b[0m     frame\u001b[38;5;241m=\u001b[39mdf,\n\u001b[0;32m   3960\u001b[0m     header\u001b[38;5;241m=\u001b[39mheader,\n\u001b[1;32m   (...)\u001b[0m\n\u001b[0;32m   3964\u001b[0m     decimal\u001b[38;5;241m=\u001b[39mdecimal,\n\u001b[0;32m   3965\u001b[0m )\n\u001b[1;32m-> 3967\u001b[0m \u001b[38;5;28;01mreturn\u001b[39;00m \u001b[43mDataFrameRenderer\u001b[49m\u001b[43m(\u001b[49m\u001b[43mformatter\u001b[49m\u001b[43m)\u001b[49m\u001b[38;5;241;43m.\u001b[39;49m\u001b[43mto_csv\u001b[49m\u001b[43m(\u001b[49m\n\u001b[0;32m   3968\u001b[0m \u001b[43m    \u001b[49m\u001b[43mpath_or_buf\u001b[49m\u001b[43m,\u001b[49m\n\u001b[0;32m   3969\u001b[0m \u001b[43m    \u001b[49m\u001b[43mlineterminator\u001b[49m\u001b[38;5;241;43m=\u001b[39;49m\u001b[43mlineterminator\u001b[49m\u001b[43m,\u001b[49m\n\u001b[0;32m   3970\u001b[0m \u001b[43m    \u001b[49m\u001b[43msep\u001b[49m\u001b[38;5;241;43m=\u001b[39;49m\u001b[43msep\u001b[49m\u001b[43m,\u001b[49m\n\u001b[0;32m   3971\u001b[0m \u001b[43m    \u001b[49m\u001b[43mencoding\u001b[49m\u001b[38;5;241;43m=\u001b[39;49m\u001b[43mencoding\u001b[49m\u001b[43m,\u001b[49m\n\u001b[0;32m   3972\u001b[0m \u001b[43m    \u001b[49m\u001b[43merrors\u001b[49m\u001b[38;5;241;43m=\u001b[39;49m\u001b[43merrors\u001b[49m\u001b[43m,\u001b[49m\n\u001b[0;32m   3973\u001b[0m \u001b[43m    \u001b[49m\u001b[43mcompression\u001b[49m\u001b[38;5;241;43m=\u001b[39;49m\u001b[43mcompression\u001b[49m\u001b[43m,\u001b[49m\n\u001b[0;32m   3974\u001b[0m \u001b[43m    \u001b[49m\u001b[43mquoting\u001b[49m\u001b[38;5;241;43m=\u001b[39;49m\u001b[43mquoting\u001b[49m\u001b[43m,\u001b[49m\n\u001b[0;32m   3975\u001b[0m \u001b[43m    \u001b[49m\u001b[43mcolumns\u001b[49m\u001b[38;5;241;43m=\u001b[39;49m\u001b[43mcolumns\u001b[49m\u001b[43m,\u001b[49m\n\u001b[0;32m   3976\u001b[0m \u001b[43m    \u001b[49m\u001b[43mindex_label\u001b[49m\u001b[38;5;241;43m=\u001b[39;49m\u001b[43mindex_label\u001b[49m\u001b[43m,\u001b[49m\n\u001b[0;32m   3977\u001b[0m \u001b[43m    \u001b[49m\u001b[43mmode\u001b[49m\u001b[38;5;241;43m=\u001b[39;49m\u001b[43mmode\u001b[49m\u001b[43m,\u001b[49m\n\u001b[0;32m   3978\u001b[0m \u001b[43m    \u001b[49m\u001b[43mchunksize\u001b[49m\u001b[38;5;241;43m=\u001b[39;49m\u001b[43mchunksize\u001b[49m\u001b[43m,\u001b[49m\n\u001b[0;32m   3979\u001b[0m \u001b[43m    \u001b[49m\u001b[43mquotechar\u001b[49m\u001b[38;5;241;43m=\u001b[39;49m\u001b[43mquotechar\u001b[49m\u001b[43m,\u001b[49m\n\u001b[0;32m   3980\u001b[0m \u001b[43m    \u001b[49m\u001b[43mdate_format\u001b[49m\u001b[38;5;241;43m=\u001b[39;49m\u001b[43mdate_format\u001b[49m\u001b[43m,\u001b[49m\n\u001b[0;32m   3981\u001b[0m \u001b[43m    \u001b[49m\u001b[43mdoublequote\u001b[49m\u001b[38;5;241;43m=\u001b[39;49m\u001b[43mdoublequote\u001b[49m\u001b[43m,\u001b[49m\n\u001b[0;32m   3982\u001b[0m \u001b[43m    \u001b[49m\u001b[43mescapechar\u001b[49m\u001b[38;5;241;43m=\u001b[39;49m\u001b[43mescapechar\u001b[49m\u001b[43m,\u001b[49m\n\u001b[0;32m   3983\u001b[0m \u001b[43m    \u001b[49m\u001b[43mstorage_options\u001b[49m\u001b[38;5;241;43m=\u001b[39;49m\u001b[43mstorage_options\u001b[49m\u001b[43m,\u001b[49m\n\u001b[0;32m   3984\u001b[0m \u001b[43m\u001b[49m\u001b[43m)\u001b[49m\n",
      "File \u001b[1;32mc:\\Users\\felip\\AppData\\Local\\Programs\\Python\\Python312\\Lib\\site-packages\\pandas\\io\\formats\\format.py:1014\u001b[0m, in \u001b[0;36mDataFrameRenderer.to_csv\u001b[1;34m(self, path_or_buf, encoding, sep, columns, index_label, mode, compression, quoting, quotechar, lineterminator, chunksize, date_format, doublequote, escapechar, errors, storage_options)\u001b[0m\n\u001b[0;32m    993\u001b[0m     created_buffer \u001b[38;5;241m=\u001b[39m \u001b[38;5;28;01mFalse\u001b[39;00m\n\u001b[0;32m    995\u001b[0m csv_formatter \u001b[38;5;241m=\u001b[39m CSVFormatter(\n\u001b[0;32m    996\u001b[0m     path_or_buf\u001b[38;5;241m=\u001b[39mpath_or_buf,\n\u001b[0;32m    997\u001b[0m     lineterminator\u001b[38;5;241m=\u001b[39mlineterminator,\n\u001b[1;32m   (...)\u001b[0m\n\u001b[0;32m   1012\u001b[0m     formatter\u001b[38;5;241m=\u001b[39m\u001b[38;5;28mself\u001b[39m\u001b[38;5;241m.\u001b[39mfmt,\n\u001b[0;32m   1013\u001b[0m )\n\u001b[1;32m-> 1014\u001b[0m \u001b[43mcsv_formatter\u001b[49m\u001b[38;5;241;43m.\u001b[39;49m\u001b[43msave\u001b[49m\u001b[43m(\u001b[49m\u001b[43m)\u001b[49m\n\u001b[0;32m   1016\u001b[0m \u001b[38;5;28;01mif\u001b[39;00m created_buffer:\n\u001b[0;32m   1017\u001b[0m     \u001b[38;5;28;01massert\u001b[39;00m \u001b[38;5;28misinstance\u001b[39m(path_or_buf, StringIO)\n",
      "File \u001b[1;32mc:\\Users\\felip\\AppData\\Local\\Programs\\Python\\Python312\\Lib\\site-packages\\pandas\\io\\formats\\csvs.py:270\u001b[0m, in \u001b[0;36mCSVFormatter.save\u001b[1;34m(self)\u001b[0m\n\u001b[0;32m    251\u001b[0m \u001b[38;5;28;01mwith\u001b[39;00m get_handle(\n\u001b[0;32m    252\u001b[0m     \u001b[38;5;28mself\u001b[39m\u001b[38;5;241m.\u001b[39mfilepath_or_buffer,\n\u001b[0;32m    253\u001b[0m     \u001b[38;5;28mself\u001b[39m\u001b[38;5;241m.\u001b[39mmode,\n\u001b[1;32m   (...)\u001b[0m\n\u001b[0;32m    258\u001b[0m ) \u001b[38;5;28;01mas\u001b[39;00m handles:\n\u001b[0;32m    259\u001b[0m     \u001b[38;5;66;03m# Note: self.encoding is irrelevant here\u001b[39;00m\n\u001b[0;32m    260\u001b[0m     \u001b[38;5;28mself\u001b[39m\u001b[38;5;241m.\u001b[39mwriter \u001b[38;5;241m=\u001b[39m csvlib\u001b[38;5;241m.\u001b[39mwriter(\n\u001b[0;32m    261\u001b[0m         handles\u001b[38;5;241m.\u001b[39mhandle,\n\u001b[0;32m    262\u001b[0m         lineterminator\u001b[38;5;241m=\u001b[39m\u001b[38;5;28mself\u001b[39m\u001b[38;5;241m.\u001b[39mlineterminator,\n\u001b[1;32m   (...)\u001b[0m\n\u001b[0;32m    267\u001b[0m         quotechar\u001b[38;5;241m=\u001b[39m\u001b[38;5;28mself\u001b[39m\u001b[38;5;241m.\u001b[39mquotechar,\n\u001b[0;32m    268\u001b[0m     )\n\u001b[1;32m--> 270\u001b[0m     \u001b[38;5;28;43mself\u001b[39;49m\u001b[38;5;241;43m.\u001b[39;49m\u001b[43m_save\u001b[49m\u001b[43m(\u001b[49m\u001b[43m)\u001b[49m\n",
      "File \u001b[1;32mc:\\Users\\felip\\AppData\\Local\\Programs\\Python\\Python312\\Lib\\site-packages\\pandas\\io\\formats\\csvs.py:275\u001b[0m, in \u001b[0;36mCSVFormatter._save\u001b[1;34m(self)\u001b[0m\n\u001b[0;32m    273\u001b[0m \u001b[38;5;28;01mif\u001b[39;00m \u001b[38;5;28mself\u001b[39m\u001b[38;5;241m.\u001b[39m_need_to_save_header:\n\u001b[0;32m    274\u001b[0m     \u001b[38;5;28mself\u001b[39m\u001b[38;5;241m.\u001b[39m_save_header()\n\u001b[1;32m--> 275\u001b[0m \u001b[38;5;28;43mself\u001b[39;49m\u001b[38;5;241;43m.\u001b[39;49m\u001b[43m_save_body\u001b[49m\u001b[43m(\u001b[49m\u001b[43m)\u001b[49m\n",
      "File \u001b[1;32mc:\\Users\\felip\\AppData\\Local\\Programs\\Python\\Python312\\Lib\\site-packages\\pandas\\io\\formats\\csvs.py:313\u001b[0m, in \u001b[0;36mCSVFormatter._save_body\u001b[1;34m(self)\u001b[0m\n\u001b[0;32m    311\u001b[0m \u001b[38;5;28;01mif\u001b[39;00m start_i \u001b[38;5;241m>\u001b[39m\u001b[38;5;241m=\u001b[39m end_i:\n\u001b[0;32m    312\u001b[0m     \u001b[38;5;28;01mbreak\u001b[39;00m\n\u001b[1;32m--> 313\u001b[0m \u001b[38;5;28;43mself\u001b[39;49m\u001b[38;5;241;43m.\u001b[39;49m\u001b[43m_save_chunk\u001b[49m\u001b[43m(\u001b[49m\u001b[43mstart_i\u001b[49m\u001b[43m,\u001b[49m\u001b[43m \u001b[49m\u001b[43mend_i\u001b[49m\u001b[43m)\u001b[49m\n",
      "File \u001b[1;32mc:\\Users\\felip\\AppData\\Local\\Programs\\Python\\Python312\\Lib\\site-packages\\pandas\\io\\formats\\csvs.py:324\u001b[0m, in \u001b[0;36mCSVFormatter._save_chunk\u001b[1;34m(self, start_i, end_i)\u001b[0m\n\u001b[0;32m    321\u001b[0m data \u001b[38;5;241m=\u001b[39m \u001b[38;5;28mlist\u001b[39m(res\u001b[38;5;241m.\u001b[39m_iter_column_arrays())\n\u001b[0;32m    323\u001b[0m ix \u001b[38;5;241m=\u001b[39m \u001b[38;5;28mself\u001b[39m\u001b[38;5;241m.\u001b[39mdata_index[slicer]\u001b[38;5;241m.\u001b[39m_get_values_for_csv(\u001b[38;5;241m*\u001b[39m\u001b[38;5;241m*\u001b[39m\u001b[38;5;28mself\u001b[39m\u001b[38;5;241m.\u001b[39m_number_format)\n\u001b[1;32m--> 324\u001b[0m \u001b[43mlibwriters\u001b[49m\u001b[38;5;241;43m.\u001b[39;49m\u001b[43mwrite_csv_rows\u001b[49m\u001b[43m(\u001b[49m\n\u001b[0;32m    325\u001b[0m \u001b[43m    \u001b[49m\u001b[43mdata\u001b[49m\u001b[43m,\u001b[49m\n\u001b[0;32m    326\u001b[0m \u001b[43m    \u001b[49m\u001b[43mix\u001b[49m\u001b[43m,\u001b[49m\n\u001b[0;32m    327\u001b[0m \u001b[43m    \u001b[49m\u001b[38;5;28;43mself\u001b[39;49m\u001b[38;5;241;43m.\u001b[39;49m\u001b[43mnlevels\u001b[49m\u001b[43m,\u001b[49m\n\u001b[0;32m    328\u001b[0m \u001b[43m    \u001b[49m\u001b[38;5;28;43mself\u001b[39;49m\u001b[38;5;241;43m.\u001b[39;49m\u001b[43mcols\u001b[49m\u001b[43m,\u001b[49m\n\u001b[0;32m    329\u001b[0m \u001b[43m    \u001b[49m\u001b[38;5;28;43mself\u001b[39;49m\u001b[38;5;241;43m.\u001b[39;49m\u001b[43mwriter\u001b[49m\u001b[43m,\u001b[49m\n\u001b[0;32m    330\u001b[0m \u001b[43m\u001b[49m\u001b[43m)\u001b[49m\n",
      "File \u001b[1;32mwriters.pyx:73\u001b[0m, in \u001b[0;36mpandas._libs.writers.write_csv_rows\u001b[1;34m()\u001b[0m\n",
      "\u001b[1;31mKeyboardInterrupt\u001b[0m: "
     ]
    }
   ],
   "source": [
    "deputies_names = set(df[\"nome\"])\n",
    "data = pd.DataFrame(columns=[\"deputy\", \"discourse\", \"discourse_link\", \"date\", \"phase\", \"expected_number_of_discourses\"])\n",
    "deputy_number = 1\n",
    "\n",
    "FILENAME = \"data/speeches/speeches_56_3.csv\"\n",
    "\n",
    "# iterate over the deputies\n",
    "for deputy in deputies_names:\n",
    "    current_page = 1\n",
    "    all_discourse_links = []\n",
    "    deputy_name = deputy.replace(\" \", \"+\")\n",
    "\n",
    "    # iterate over the pages of the deputy\n",
    "    while True:\n",
    "        try:\n",
    "            # Get the page\n",
    "            url_table = f\"https://www.camara.leg.br/internet/sitaqweb/resultadoPesquisaDiscursos.asp?CurrentPage={current_page}&txOrador={deputy_name}&txPartido=&txUF=&dtInicio=&dtFim=&txTexto=&txSumario=&basePesq=plenario&CampoOrdenacao=dtSessao&PageSize=100&TipoOrdenacao=DESC&btnPesq=Pesquisar\"\n",
    "            response = requests.get(url_table)\n",
    "        except Exception as e:\n",
    "            print(f\"Failed to get {deputy} - {e}\")\n",
    "            break\n",
    "        \n",
    "        # Check if the page was successfully retrieved\n",
    "        if response.ok:\n",
    "            soup = BeautifulSoup(response.text, 'html.parser')\n",
    "            page_discourse_links = extract_discourse_links(soup)\n",
    "        else:\n",
    "            # If the page was not successfully retrieved, break the loop\n",
    "            print(f\"Failed to get {deputy} - {response} - page {current_page}\")\n",
    "            continue\n",
    "        \n",
    "        # If there are no more discourse links, break the loop\n",
    "        if not page_discourse_links:\n",
    "            break\n",
    "        \n",
    "        # Add the discourse links to the list\n",
    "        print(f\"Extracted {len(page_discourse_links)} discourse links for {deputy} - page {current_page}\")\n",
    "        all_discourse_links.extend(page_discourse_links)\n",
    "        \n",
    "        current_page += 1\n",
    "        \n",
    "        time.sleep(2)\n",
    "\n",
    "    # Iterate over the discourse links\n",
    "    for discourse in tqdm(all_discourse_links, desc=f\"Processing Discourses of {deputy}\", leave=False):\n",
    "        # Get the discourse page\n",
    "        try:\n",
    "            url_discourse = f\"https://www.camara.leg.br/internet/sitaqweb/{discourse}\"\n",
    "            response = requests.get(url_discourse)\n",
    "        except Exception as e:\n",
    "            print(f\"Failed to get {url_discourse} of deputy {deputy} - {e}\")\n",
    "            continue\n",
    "        \n",
    "        # Check if the page was successfully retrieved\n",
    "        if not response.ok:\n",
    "            print(f\"Failed to get {url_discourse} of deputy {deputy} - {response}\")\n",
    "            continue\n",
    "        \n",
    "        soup = BeautifulSoup(response.text, 'html.parser')\n",
    "        \n",
    "        # Extract discourse text\n",
    "        discourse_text = soup.find_all('p')\n",
    "        discourse_text = \" \".join([p.text for p in discourse_text])\n",
    "        \n",
    "        # Extract date and phase\n",
    "        date, phase = None, None\n",
    "        tds_right = soup.find_all('td', align='right')\n",
    "        for td in tds_right:\n",
    "            if \"Data\" in td.text:\n",
    "                date = td.text.split(\":\")[1].strip()  # Split to get date part\n",
    "            elif \"Fase\" in td.text:\n",
    "                phase = td.text.split(\":\")[1].strip()  # Split to get phase part\n",
    "\n",
    "        # Add to dataframe\n",
    "        data = pd.concat([data, pd.DataFrame([[deputy, discourse_text, url_discourse, date, phase, len(all_discourse_links)]], \n",
    "                                             columns=[\"deputy\", \"discourse\", \"discourse_link\", \"date\", \"phase\", \"expected_number_of_discourses\"])])\n",
    "        \n",
    "        # Save every 10 deputies\n",
    "        if deputy_number % 10 == 0:\n",
    "            data.to_csv(FILENAME, index=False)\n",
    "            \n",
    "        time.sleep(0.5)\n",
    "    \n",
    "    print(f\"✅ {deputy_number} Finished {deputy}\\n\")\n",
    "    deputy_number += 1\n",
    "    \n",
    "    time.sleep(20)\n",
    "\n",
    "# Save final result\n",
    "data.to_csv(FILENAME, index=False)"
   ]
  },
  {
   "cell_type": "code",
   "execution_count": 8,
   "metadata": {},
   "outputs": [],
   "source": [
    "data.to_csv(\"data/speeches/speeches_56_3.csv\", index=False)"
   ]
  }
 ],
 "metadata": {
  "kernelspec": {
   "display_name": "Python 3",
   "language": "python",
   "name": "python3"
  },
  "language_info": {
   "codemirror_mode": {
    "name": "ipython",
    "version": 3
   },
   "file_extension": ".py",
   "mimetype": "text/x-python",
   "name": "python",
   "nbconvert_exporter": "python",
   "pygments_lexer": "ipython3",
   "version": "3.12.5"
  }
 },
 "nbformat": 4,
 "nbformat_minor": 2
}
