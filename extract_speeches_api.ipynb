{
 "cells": [
  {
   "cell_type": "code",
   "execution_count": 1,
   "metadata": {},
   "outputs": [],
   "source": [
    "import pandas as pd\n",
    "import requests\n",
    "import time\n",
    "from tqdm import tqdm"
   ]
  },
  {
   "cell_type": "code",
   "execution_count": 2,
   "metadata": {},
   "outputs": [],
   "source": [
    "session = requests.Session()"
   ]
  },
  {
   "cell_type": "code",
   "execution_count": 3,
   "metadata": {},
   "outputs": [],
   "source": [
    "legislatures = [57, 56, 55, 54, 53, 52]"
   ]
  },
  {
   "cell_type": "code",
   "execution_count": 4,
   "metadata": {},
   "outputs": [],
   "source": [
    "# for legislature in legislatures:\n",
    "    \n",
    "#     # request data from the Chamber of Deputies API\n",
    "#     url = f'https://dadosabertos.camara.leg.br/api/v2/deputados?idLegislatura={legislature}'\n",
    "#     response = requests.get(url)\n",
    "    \n",
    "#     # parse json\n",
    "#     data = response.json()\n",
    "#     deputados = data['dados']\n",
    "#     df = pd.DataFrame(deputados)\n",
    "    \n",
    "#     # get only unique deputies (changes in the same legislature, such as party or name, are not considered)\n",
    "#     df.drop_duplicates(subset='id', inplace=True)\n",
    "    \n",
    "#     # save data\n",
    "#     df.to_csv(f'data/deputies/deputies_{legislature}.csv', index=False)\n",
    "    \n",
    "#     # print number of (unique) saved deputies\n",
    "#     print(f' Legislature {legislature}: {len(df)} saved deputies')"
   ]
  },
  {
   "cell_type": "code",
   "execution_count": null,
   "metadata": {},
   "outputs": [],
   "source": [
    "for legislature in legislatures:\n",
    "    \n",
    "    # deputies data\n",
    "    df = pd.read_csv(f'data/deputies/deputies_{legislature}.csv')\n",
    "    ids = set(df['id'].tolist())\n",
    "    \n",
    "    # speeches data\n",
    "    df = pd.DataFrame()\n",
    "    \n",
    "    # counters\n",
    "    id_count = 1\n",
    "    error_count = 0\n",
    "    \n",
    "    # dictionary to store errors -> 'id': 'url that caused the error'\n",
    "    errors = {}\n",
    "    \n",
    "    # print number of deputies\n",
    "    print(f'Legislature {legislature}: {len(ids)} deputies\\n')\n",
    "    \n",
    "    # request data from the Chamber of Deputies API\n",
    "    for id_ in ids:\n",
    "        \n",
    "        url = f'https://dadosabertos.camara.leg.br/api/v2/deputados/{id_}/discursos?idLegislatura={legislature}&itens=50'\n",
    "        \n",
    "        while True:\n",
    "            # request data from the Chamber of Deputies API\n",
    "            response = session.get(url)\n",
    "            \n",
    "            if not response.ok:\n",
    "                # if request fails, print error message, break loop and go to the next deputy\n",
    "                print(f'❌ {id_count}/{len(ids)} - ID: {id_} - Error: {response.text} - URL: {url}')\n",
    "                error_count += 1\n",
    "                errors[id_] = url\n",
    "                break\n",
    "            \n",
    "            # parse json\n",
    "            data = response.json()['dados']\n",
    "            \n",
    "            # print progress\n",
    "            print(f'✅ {id_count}/{len(ids)} - Deputy {id_} - {len(data)} speeches - URL: {url}')\n",
    "            \n",
    "            data = pd.DataFrame(data)\n",
    "            data['id'] = id_\n",
    "            \n",
    "            # concatenate data\n",
    "            df = pd.concat([df, data])\n",
    "            \n",
    "            # check if there is another page\n",
    "            links = response.json()['links']\n",
    "            # if one of the link['rel'] is 'next', there is another page\n",
    "            if not any(link['rel'] == 'next' for link in links):\n",
    "                break\n",
    "            else:\n",
    "                # get next page\n",
    "                time.sleep(2)\n",
    "                url = next(link['href'] for link in links if link['rel'] == 'next')\n",
    "        \n",
    "        # save data every 50 deputies\n",
    "        if id_count % 50 == 0:\n",
    "            df.to_csv(f'data/speeches/speeches_{legislature}.csv', index=False)\n",
    "        \n",
    "        id_count += 1\n",
    "        \n",
    "        time.sleep(2)\n",
    "        \n",
    "    print(f'\\nLegislature {legislature}: {len(ids)} deputies - {len(df)} speeches - {error_count} errors\\n')\n",
    "    \n",
    "    # save data for the current legislature\n",
    "    df.to_csv(f'data/speeches/speeches_{legislature}.csv', index=False)\n",
    "    \n",
    "    # save errors for troubleshooting\n",
    "    errors_df = pd.DataFrame(errors.items(), columns=['id', 'url'])\n",
    "    errors_df.to_csv(f'data/errors/extraction_errors_{legislature}.csv', index=False)"
   ]
  },
  {
   "cell_type": "code",
   "execution_count": 8,
   "metadata": {},
   "outputs": [],
   "source": [
    "session.close()"
   ]
  }
 ],
 "metadata": {
  "kernelspec": {
   "display_name": "Python 3",
   "language": "python",
   "name": "python3"
  },
  "language_info": {
   "codemirror_mode": {
    "name": "ipython",
    "version": 3
   },
   "file_extension": ".py",
   "mimetype": "text/x-python",
   "name": "python",
   "nbconvert_exporter": "python",
   "pygments_lexer": "ipython3",
   "version": "3.12.5"
  }
 },
 "nbformat": 4,
 "nbformat_minor": 2
}
