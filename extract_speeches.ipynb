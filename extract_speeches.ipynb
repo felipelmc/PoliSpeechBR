{
 "cells": [
  {
   "cell_type": "code",
   "execution_count": 1,
   "metadata": {},
   "outputs": [],
   "source": [
    "import pandas as pd\n",
    "import requests"
   ]
  },
  {
   "cell_type": "code",
   "execution_count": 2,
   "metadata": {},
   "outputs": [],
   "source": [
    "legislatures = [57, 56, 55, 54, 53, 52]"
   ]
  },
  {
   "cell_type": "code",
   "execution_count": null,
   "metadata": {},
   "outputs": [],
   "source": [
    "for legislature in legislatures:\n",
    "    \n",
    "    # request data from the Chamber of Deputies API\n",
    "    url = f'https://dadosabertos.camara.leg.br/api/v2/deputados?idLegislatura={legislature}'\n",
    "    response = requests.get(url)\n",
    "    \n",
    "    # parse json\n",
    "    data = response.json()\n",
    "    deputados = data['dados']\n",
    "    df = pd.DataFrame(deputados)\n",
    "    \n",
    "    # get only unique deputies (changes in the same legislature, such as party or name, are not considered)\n",
    "    df.drop_duplicates(subset='id', inplace=True)\n",
    "    \n",
    "    # save data\n",
    "    df.to_csv(f'data/deputies/deputies_{legislature}.csv', index=False)\n",
    "    \n",
    "    # print number of (unique) saved deputies\n",
    "    print(f' Legislature {legislature}: {len(df)} saved deputies')"
   ]
  },
  {
   "cell_type": "code",
   "execution_count": null,
   "metadata": {},
   "outputs": [],
   "source": [
    "for legislature in legislatures:\n",
    "    \n",
    "    # deputies data\n",
    "    df = pd.read_csv(f'data/deputies/deputies_{legislature}.csv')\n",
    "    ids = set(df['id'].tolist())\n",
    "    \n",
    "    df = pd.DataFrame()\n",
    "    \n",
    "    # request data from the Chamber of Deputies API\n",
    "    for id_ in ids:\n",
    "        # instantiate page counter\n",
    "        page = 1\n",
    "        \n",
    "        while True:\n",
    "            # request data from the Chamber of Deputies API\n",
    "            url = f'https://dadosabertos.camara.leg.br/api/v2/deputados/{id_}/discursos?idLegislatura={legislature}&pagina={page}&itens=100'\n",
    "            response = requests.get(url)\n",
    "            \n",
    "            if not response.ok:\n",
    "                # if request fails, print error message, break loop and go to the next deputy\n",
    "                print(f'Error: {response.text} - ID: {id_} - Page: {page}')\n",
    "                break\n",
    "            \n",
    "            # parse json\n",
    "            data = response.json()['dados']\n",
    "            \n",
    "            # if there is no data in page {page}, break loop and go to the next deputy\n",
    "            if len(data) == 0:\n",
    "                break\n",
    "            \n",
    "            # concatenate data\n",
    "            df = pd.concat([df, pd.DataFrame(data)])\n",
    "            print(f'Legislature {legislature}: Deputy {id_} - Page {page} - {len(data)} speeches')\n",
    "            \n",
    "            # increment page counter\n",
    "            page += 1\n",
    "            \n",
    "        df['id'] = id_\n",
    "    \n",
    "    df.to_csv(f'data/speeches/speeches_{legislature}.csv', index=False)"
   ]
  }
 ],
 "metadata": {
  "kernelspec": {
   "display_name": "Python 3",
   "language": "python",
   "name": "python3"
  },
  "language_info": {
   "codemirror_mode": {
    "name": "ipython",
    "version": 3
   },
   "file_extension": ".py",
   "mimetype": "text/x-python",
   "name": "python",
   "nbconvert_exporter": "python",
   "pygments_lexer": "ipython3",
   "version": "3.12.5"
  }
 },
 "nbformat": 4,
 "nbformat_minor": 2
}
